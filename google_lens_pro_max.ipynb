{
  "cells": [
    {
      "cell_type": "code",
      "execution_count": 3,
      "metadata": {
        "colab": {
          "base_uri": "https://localhost:8080/"
        },
        "id": "1QrX1TOQ9_h7",
        "outputId": "8edc8393-0d63-49dc-ade0-38101f8aafc5"
      },
      "outputs": [
        {
          "name": "stdout",
          "output_type": "stream",
          "text": [
            "Requirement already satisfied: gradio in /usr/local/lib/python3.10/dist-packages (5.0.2)\n",
            "Requirement already satisfied: aiofiles<24.0,>=22.0 in /usr/local/lib/python3.10/dist-packages (from gradio) (23.2.1)\n",
            "Requirement already satisfied: anyio<5.0,>=3.0 in /usr/local/lib/python3.10/dist-packages (from gradio) (3.7.1)\n",
            "Requirement already satisfied: fastapi<1.0 in /usr/local/lib/python3.10/dist-packages (from gradio) (0.115.2)\n",
            "Requirement already satisfied: ffmpy in /usr/local/lib/python3.10/dist-packages (from gradio) (0.4.0)\n",
            "Requirement already satisfied: gradio-client==1.4.0 in /usr/local/lib/python3.10/dist-packages (from gradio) (1.4.0)\n",
            "Requirement already satisfied: httpx>=0.24.1 in /usr/local/lib/python3.10/dist-packages (from gradio) (0.27.2)\n",
            "Requirement already satisfied: huggingface-hub>=0.25.1 in /usr/local/lib/python3.10/dist-packages (from gradio) (0.25.2)\n",
            "Requirement already satisfied: jinja2<4.0 in /usr/local/lib/python3.10/dist-packages (from gradio) (3.1.4)\n",
            "Requirement already satisfied: markupsafe~=2.0 in /usr/local/lib/python3.10/dist-packages (from gradio) (2.1.5)\n",
            "Requirement already satisfied: numpy<3.0,>=1.0 in /usr/local/lib/python3.10/dist-packages (from gradio) (1.26.4)\n",
            "Requirement already satisfied: orjson~=3.0 in /usr/local/lib/python3.10/dist-packages (from gradio) (3.10.7)\n",
            "Requirement already satisfied: packaging in /usr/local/lib/python3.10/dist-packages (from gradio) (24.1)\n",
            "Requirement already satisfied: pandas<3.0,>=1.0 in /usr/local/lib/python3.10/dist-packages (from gradio) (2.2.2)\n",
            "Requirement already satisfied: pillow<11.0,>=8.0 in /usr/local/lib/python3.10/dist-packages (from gradio) (10.4.0)\n",
            "Requirement already satisfied: pydantic>=2.0 in /usr/local/lib/python3.10/dist-packages (from gradio) (2.9.2)\n",
            "Requirement already satisfied: pydub in /usr/local/lib/python3.10/dist-packages (from gradio) (0.25.1)\n",
            "Requirement already satisfied: python-multipart>=0.0.9 in /usr/local/lib/python3.10/dist-packages (from gradio) (0.0.12)\n",
            "Requirement already satisfied: pyyaml<7.0,>=5.0 in /usr/local/lib/python3.10/dist-packages (from gradio) (6.0.2)\n",
            "Requirement already satisfied: ruff>=0.2.2 in /usr/local/lib/python3.10/dist-packages (from gradio) (0.6.9)\n",
            "Requirement already satisfied: semantic-version~=2.0 in /usr/local/lib/python3.10/dist-packages (from gradio) (2.10.0)\n",
            "Requirement already satisfied: tomlkit==0.12.0 in /usr/local/lib/python3.10/dist-packages (from gradio) (0.12.0)\n",
            "Requirement already satisfied: typer<1.0,>=0.12 in /usr/local/lib/python3.10/dist-packages (from gradio) (0.12.5)\n",
            "Requirement already satisfied: typing-extensions~=4.0 in /usr/local/lib/python3.10/dist-packages (from gradio) (4.12.2)\n",
            "Requirement already satisfied: uvicorn>=0.14.0 in /usr/local/lib/python3.10/dist-packages (from gradio) (0.31.1)\n",
            "Requirement already satisfied: fsspec in /usr/local/lib/python3.10/dist-packages (from gradio-client==1.4.0->gradio) (2024.6.1)\n",
            "Requirement already satisfied: websockets<13.0,>=10.0 in /usr/local/lib/python3.10/dist-packages (from gradio-client==1.4.0->gradio) (12.0)\n",
            "Requirement already satisfied: idna>=2.8 in /usr/local/lib/python3.10/dist-packages (from anyio<5.0,>=3.0->gradio) (3.10)\n",
            "Requirement already satisfied: sniffio>=1.1 in /usr/local/lib/python3.10/dist-packages (from anyio<5.0,>=3.0->gradio) (1.3.1)\n",
            "Requirement already satisfied: exceptiongroup in /usr/local/lib/python3.10/dist-packages (from anyio<5.0,>=3.0->gradio) (1.2.2)\n",
            "Requirement already satisfied: starlette<0.41.0,>=0.37.2 in /usr/local/lib/python3.10/dist-packages (from fastapi<1.0->gradio) (0.39.2)\n",
            "Requirement already satisfied: certifi in /usr/local/lib/python3.10/dist-packages (from httpx>=0.24.1->gradio) (2024.8.30)\n",
            "Requirement already satisfied: httpcore==1.* in /usr/local/lib/python3.10/dist-packages (from httpx>=0.24.1->gradio) (1.0.6)\n",
            "Requirement already satisfied: h11<0.15,>=0.13 in /usr/local/lib/python3.10/dist-packages (from httpcore==1.*->httpx>=0.24.1->gradio) (0.14.0)\n",
            "Requirement already satisfied: filelock in /usr/local/lib/python3.10/dist-packages (from huggingface-hub>=0.25.1->gradio) (3.16.1)\n",
            "Requirement already satisfied: requests in /usr/local/lib/python3.10/dist-packages (from huggingface-hub>=0.25.1->gradio) (2.32.3)\n",
            "Requirement already satisfied: tqdm>=4.42.1 in /usr/local/lib/python3.10/dist-packages (from huggingface-hub>=0.25.1->gradio) (4.66.5)\n",
            "Requirement already satisfied: python-dateutil>=2.8.2 in /usr/local/lib/python3.10/dist-packages (from pandas<3.0,>=1.0->gradio) (2.8.2)\n",
            "Requirement already satisfied: pytz>=2020.1 in /usr/local/lib/python3.10/dist-packages (from pandas<3.0,>=1.0->gradio) (2024.2)\n",
            "Requirement already satisfied: tzdata>=2022.7 in /usr/local/lib/python3.10/dist-packages (from pandas<3.0,>=1.0->gradio) (2024.2)\n",
            "Requirement already satisfied: annotated-types>=0.6.0 in /usr/local/lib/python3.10/dist-packages (from pydantic>=2.0->gradio) (0.7.0)\n",
            "Requirement already satisfied: pydantic-core==2.23.4 in /usr/local/lib/python3.10/dist-packages (from pydantic>=2.0->gradio) (2.23.4)\n",
            "Requirement already satisfied: click>=8.0.0 in /usr/local/lib/python3.10/dist-packages (from typer<1.0,>=0.12->gradio) (8.1.7)\n",
            "Requirement already satisfied: shellingham>=1.3.0 in /usr/local/lib/python3.10/dist-packages (from typer<1.0,>=0.12->gradio) (1.5.4)\n",
            "Requirement already satisfied: rich>=10.11.0 in /usr/local/lib/python3.10/dist-packages (from typer<1.0,>=0.12->gradio) (13.9.2)\n",
            "Requirement already satisfied: six>=1.5 in /usr/local/lib/python3.10/dist-packages (from python-dateutil>=2.8.2->pandas<3.0,>=1.0->gradio) (1.16.0)\n",
            "Requirement already satisfied: markdown-it-py>=2.2.0 in /usr/local/lib/python3.10/dist-packages (from rich>=10.11.0->typer<1.0,>=0.12->gradio) (3.0.0)\n",
            "Requirement already satisfied: pygments<3.0.0,>=2.13.0 in /usr/local/lib/python3.10/dist-packages (from rich>=10.11.0->typer<1.0,>=0.12->gradio) (2.18.0)\n",
            "Requirement already satisfied: charset-normalizer<4,>=2 in /usr/local/lib/python3.10/dist-packages (from requests->huggingface-hub>=0.25.1->gradio) (3.3.2)\n",
            "Requirement already satisfied: urllib3<3,>=1.21.1 in /usr/local/lib/python3.10/dist-packages (from requests->huggingface-hub>=0.25.1->gradio) (2.2.3)\n",
            "Requirement already satisfied: mdurl~=0.1 in /usr/local/lib/python3.10/dist-packages (from markdown-it-py>=2.2.0->rich>=10.11.0->typer<1.0,>=0.12->gradio) (0.1.2)\n",
            "Requirement already satisfied: pyngrok in /usr/local/lib/python3.10/dist-packages (7.2.0)\n",
            "Requirement already satisfied: PyYAML>=5.1 in /usr/local/lib/python3.10/dist-packages (from pyngrok) (6.0.2)\n",
            "Authtoken saved to configuration file: /root/.config/ngrok/ngrok.yml\n",
            "Requirement already satisfied: transformers in /usr/local/lib/python3.10/dist-packages (4.44.2)\n",
            "Requirement already satisfied: pillow in /usr/local/lib/python3.10/dist-packages (10.4.0)\n",
            "Requirement already satisfied: requests in /usr/local/lib/python3.10/dist-packages (2.32.3)\n",
            "Requirement already satisfied: filelock in /usr/local/lib/python3.10/dist-packages (from transformers) (3.16.1)\n",
            "Requirement already satisfied: huggingface-hub<1.0,>=0.23.2 in /usr/local/lib/python3.10/dist-packages (from transformers) (0.25.2)\n",
            "Requirement already satisfied: numpy>=1.17 in /usr/local/lib/python3.10/dist-packages (from transformers) (1.26.4)\n",
            "Requirement already satisfied: packaging>=20.0 in /usr/local/lib/python3.10/dist-packages (from transformers) (24.1)\n",
            "Requirement already satisfied: pyyaml>=5.1 in /usr/local/lib/python3.10/dist-packages (from transformers) (6.0.2)\n",
            "Requirement already satisfied: regex!=2019.12.17 in /usr/local/lib/python3.10/dist-packages (from transformers) (2024.9.11)\n",
            "Requirement already satisfied: safetensors>=0.4.1 in /usr/local/lib/python3.10/dist-packages (from transformers) (0.4.5)\n",
            "Requirement already satisfied: tokenizers<0.20,>=0.19 in /usr/local/lib/python3.10/dist-packages (from transformers) (0.19.1)\n",
            "Requirement already satisfied: tqdm>=4.27 in /usr/local/lib/python3.10/dist-packages (from transformers) (4.66.5)\n",
            "Requirement already satisfied: charset-normalizer<4,>=2 in /usr/local/lib/python3.10/dist-packages (from requests) (3.3.2)\n",
            "Requirement already satisfied: idna<4,>=2.5 in /usr/local/lib/python3.10/dist-packages (from requests) (3.10)\n",
            "Requirement already satisfied: urllib3<3,>=1.21.1 in /usr/local/lib/python3.10/dist-packages (from requests) (2.2.3)\n",
            "Requirement already satisfied: certifi>=2017.4.17 in /usr/local/lib/python3.10/dist-packages (from requests) (2024.8.30)\n",
            "Requirement already satisfied: fsspec>=2023.5.0 in /usr/local/lib/python3.10/dist-packages (from huggingface-hub<1.0,>=0.23.2->transformers) (2024.6.1)\n",
            "Requirement already satisfied: typing-extensions>=3.7.4.3 in /usr/local/lib/python3.10/dist-packages (from huggingface-hub<1.0,>=0.23.2->transformers) (4.12.2)\n"
          ]
        }
      ],
      "source": [
        "!pip install gradio\n",
        "!pip install pyngrok\n",
        "!pip install transformers pillow requests"
      ]
    },
    {
      "cell_type": "code",
      "execution_count": 4,
      "metadata": {
        "colab": {
          "base_uri": "https://localhost:8080/",
          "height": 669,
          "referenced_widgets": [
            "87725b294f4d42ad9bef4a60bfe8fae4",
            "65c8778be26b44c9a9dea7b077746e9d",
            "77e89fdb84aa404ba1b2eeb2d7dfbbcb",
            "0dadb7064b4143689ef6dffc1f929921",
            "7c58d770eaed4034b0a22d410448f8f8",
            "8186ce6aac28495280385464be0de708",
            "0626365558314b629aa2381ed23a8eee",
            "b39925c39dcc4d2b9190b9c7155e8e67",
            "983befe574e54e88bd92190c394f1ec8",
            "ecedaf0ead874c7d9c8a4e0c362f1ba5",
            "dc62d1c8bf3744459a679c358d5bba63",
            "15b0bf0053394ac2ae01818fe0b0bd70",
            "e95921e81b8047829ca3e238f4d2e08a",
            "09c5893dfc9c465dbc095ff2fc83444f",
            "64b3cc2699904d03a1075c605f0f9c94",
            "0449af854e3c495b953525ee2ec9c7cc",
            "608506d8a76e446b9587dc7ff06770b8",
            "5406d364ac2049d49112f482cb349c0e",
            "ae7fd860927d4f479ca115d018fea824",
            "dd7fabe2b69d4cdd89b569a99a48c77f",
            "4c8b8ae5c36746c7b0dafbf1ded278d4",
            "a3916dcae2f54794bbe12a6eb5e03caf",
            "63a289f268724e46a76180d20384c806",
            "a71953c91aa74923b133784f6d3e6494",
            "78ff9c6fb01c4b6480f67eb8b03c376f",
            "4eaa7df544a14233b87e6975a240c866",
            "547f6e6f3b24476aae1b06a120a23548",
            "9f69e4cb7a864b8bb0e71d5c948943a5",
            "9a2f8e2979f044afb04e5b17f00b788f",
            "93a7845816704e9fb14c69b94549f124",
            "9914f6d1dee74478a3f678895786a46b",
            "4a74a5463cbf4092a20b26b445cf7448",
            "3bf68d8f19f044d7a779fcbf0e154442",
            "c13fe1cc0efc4aa6a3c97c3b101f32d0",
            "da1bfd1f1fe24fc28034a92281067190",
            "5c48baba11ca4f7f9f686af8eb335e36",
            "b6e7eadf1456438184974089abedee27",
            "7d787044953c4cae90dfa44e14b4f989",
            "c28c2c0a328b482bb57e60306ea748d2",
            "a3cce07b5ea9490ea414cbb680f09069",
            "a974955538194f399e0c23221417dcc8",
            "f4c586840f8f4cf4adadb0f382723311",
            "59b1d6e4a00f4fc79efb1109a8d3c61b",
            "af5992aa7a5544ec8f1efe5031c6e6a1",
            "d2dec5cca8ff4208a59a9341e8f822f9",
            "685130c739b94d41833afaba83e7bae7",
            "30d58bc452074cab9ff895cff7a2f8eb",
            "13e484c01ab9491bb3600a5dca7e7810",
            "491bd243d5d340158195faf8b2b7818e",
            "5bf1df90d3cc4513aefbde1af19952f3",
            "7cd57122c7c640e785b2308af291d6a8",
            "a2324aab11c048bbbe656b78a13552db",
            "a6109ab411414a64a438bd80d6672af5",
            "226f1197d84541a08d9b36e8606279ca",
            "2c049910994d429aaf41fc744a08ad0a",
            "b1926f9a5a0b40ed912f50b5334e1a25",
            "9527b751c5764e9bafbf2d7f68c54c72",
            "77b05f9d8b7e41149adcf306e2ff019f",
            "1c33ece62d5946479484de18a5fa6c86",
            "cc93b488c5864b9ebf1a11d715282030",
            "1c143acd80ef458ba57d3e038e8209b0",
            "7b7a9575908d4413a90ea165a06fbdca",
            "380c17e9548e42b5ab7f4ca22ff856bc",
            "fea108ba7afd414cb52259652720640a",
            "5fa3963694b44f878822b0d6d0cca664",
            "6f15c97a86ce4200afb5e297e265876b",
            "d09293516c5d4b639309d18654048b57",
            "8330d654bd4c4cb0ad336f5013be52b8",
            "7f7d93aa4c1c4705914ca020d0071ce0",
            "81efaf9bb61f4bf7be1242c761c289db",
            "e94e59d8eccb4222bea63344edf85e43",
            "f23af5977a274fa4a81833283f6f5244",
            "2ebb7a02a3be436b9714a83d965bbdb0",
            "f8d52e222f9e4d21ac59340ba67384ec",
            "f7c7831893a54984bcabd5c8061f8f44",
            "201dc805ae994131a7bbd04497e16786",
            "83a9e615a4e04b96bc835abd813d4db7",
            "8fb50c4c765f4076b9558d1f5248723c",
            "555665f28c1f4c2a9a178f2c1359a8ab",
            "c821efb198dc47a489a6bbc191eea326",
            "1fc4a3d3d55e44cdaf3dcdb6f8c4ee53",
            "31bd290e76f94758956f91a86ae99562",
            "b5f9881079494f4eb66dd4493dc734d6",
            "2fc5e2d1b951406a98d502e81897786b",
            "81fb8b87d5104133a86331b50a29f684",
            "20c7d36af9a14fe79e7f47e8f08ec1e5",
            "a057b376839a4f20a47390501d75ef54",
            "a5eb78f9a40a4a5592567b74665c12b8",
            "fb947e7362e6483c99782fcc1d445a16",
            "435b5b88def1497eac8ae81d90b146ea",
            "56d060de419c457586d0aa74522aed7e",
            "664970e67cba4faeb664b58991d711c3",
            "44d336aeea69427d8e115d9eb7deb069",
            "70c1da73772f454d9a90d503651cf3a4",
            "7e4db5e959de4fc5919357e52229cbe2",
            "68492314834e4aa8851c04bfe5996560",
            "8c3e91a1509d464f8a1b807987fb4ecd",
            "e591429fcbdc4ddba8d50c2f6ce1695f",
            "4d8f2825359a4da583e22da182c04b94",
            "d29ec9adbc564d86a88a40922b69775c",
            "939917fd48b44b689ceb7b56923f7743",
            "6fc0f01a4bd04544968fd0afac49df87",
            "6967986a79c6438fa993d15541579bc4",
            "e05e9683372d45eeadb7021dd4b4b5a6",
            "f3b51c4623d74d7995a3bf8ebb20290f",
            "c6eb0ca526f742f3a81e7fbf997dcdb8",
            "311c554830654e499f5ed0ea63241b19",
            "0470b1f00e6041fcb92788a48f402159",
            "76303254dafb483bb91357e39be239d8",
            "6f74c1d8dc124567a3a11e37da37778f",
            "b5a6a2636f1f4d42a8d30aa84337b85f",
            "02093bd7178245909815bf621a6d32b9",
            "0fbf50550a424c74bb3315a8b1b7a407",
            "128835e802fa41399b54f199694e8d19",
            "1fe17558c33d4b79959b7665ea807e19",
            "22701f2c33874eed91f6a26337eb3836",
            "4ec281d0f57e48e799a464c1c65b66a0",
            "6a17f4aa416b4f45b78b81b8e429fa73",
            "a98a4a22d5d941c79c269ed09fe6e501",
            "e402efe8fcb54e59b06355d65d24b2d3",
            "b5166fbc8bd54567bcc0b7416fd26bf6",
            "c7fcfe1e46b64e32a71bda6956a28371",
            "78c3294b4c39490e8bd5628121de997c",
            "8e3778e553fb4faca806ed436c54c0c7",
            "e8e67412e87f47eda6c241cc1c9ca8d8",
            "d2156800255d41fba2c13d46e455a2e3",
            "1a79f0e85c684b18bb08f81a9fe067b6",
            "e15825127ef54478989170f0c1e19233",
            "8f238a3eaa704af1852c03b9853e39a4",
            "770396acfce0465c8f1824d5775b4ee1",
            "62d481357a274c628fddd34a730dd502",
            "5f24d47ce8e247c6960077a595138b87",
            "5607d1785a8744f8815aaf6e0eccfc34",
            "d6e9b0653ee54605b4f98f0383b650f1",
            "239456ca9b8d42aea4b9c128c0be6ad0",
            "3da4d7ec0b324ab7952659b2ee600b3f",
            "16b498aae8c14eca97d0cf93344100b2",
            "747c8f9c144c4d0eb9005274558d4ba9",
            "8eaec56e394d4ac59c534d9b8cd0c3d6",
            "379d4351d9854c0b984bd8a8434e4cbc",
            "7579868e0d6540a6a82cb737d9301400",
            "c4bbc9d9531e4961b55e4f4c7afa1498",
            "33a5d791806f4e8b85c380c01e465893"
          ]
        },
        "id": "ca0rNDxa9JoX",
        "outputId": "b20c4b53-8489-4189-8030-9cf2e245b693"
      },
      "outputs": [
        {
          "name": "stderr",
          "output_type": "stream",
          "text": [
            "/usr/local/lib/python3.10/dist-packages/huggingface_hub/utils/_token.py:89: UserWarning: \n",
            "The secret `HF_TOKEN` does not exist in your Colab secrets.\n",
            "To authenticate with the Hugging Face Hub, create a token in your settings tab (https://huggingface.co/settings/tokens), set it as secret in your Google Colab and restart your session.\n",
            "You will be able to reuse this secret in all of your notebooks.\n",
            "Please note that authentication is recommended but still optional to access public models or datasets.\n",
            "  # Means the user did not define a `HF_TOKEN` secret => warn\n"
          ]
        },
        {
          "data": {
            "application/vnd.jupyter.widget-view+json": {
              "model_id": "87725b294f4d42ad9bef4a60bfe8fae4",
              "version_major": 2,
              "version_minor": 0
            },
            "text/plain": [
              "config.json:   0%|          | 0.00/4.56k [00:00<?, ?B/s]"
            ]
          },
          "metadata": {},
          "output_type": "display_data"
        },
        {
          "data": {
            "application/vnd.jupyter.widget-view+json": {
              "model_id": "15b0bf0053394ac2ae01818fe0b0bd70",
              "version_major": 2,
              "version_minor": 0
            },
            "text/plain": [
              "pytorch_model.bin:   0%|          | 0.00/990M [00:00<?, ?B/s]"
            ]
          },
          "metadata": {},
          "output_type": "display_data"
        },
        {
          "data": {
            "application/vnd.jupyter.widget-view+json": {
              "model_id": "63a289f268724e46a76180d20384c806",
              "version_major": 2,
              "version_minor": 0
            },
            "text/plain": [
              "preprocessor_config.json:   0%|          | 0.00/287 [00:00<?, ?B/s]"
            ]
          },
          "metadata": {},
          "output_type": "display_data"
        },
        {
          "data": {
            "application/vnd.jupyter.widget-view+json": {
              "model_id": "c13fe1cc0efc4aa6a3c97c3b101f32d0",
              "version_major": 2,
              "version_minor": 0
            },
            "text/plain": [
              "tokenizer_config.json:   0%|          | 0.00/506 [00:00<?, ?B/s]"
            ]
          },
          "metadata": {},
          "output_type": "display_data"
        },
        {
          "data": {
            "application/vnd.jupyter.widget-view+json": {
              "model_id": "d2dec5cca8ff4208a59a9341e8f822f9",
              "version_major": 2,
              "version_minor": 0
            },
            "text/plain": [
              "vocab.txt:   0%|          | 0.00/232k [00:00<?, ?B/s]"
            ]
          },
          "metadata": {},
          "output_type": "display_data"
        },
        {
          "data": {
            "application/vnd.jupyter.widget-view+json": {
              "model_id": "b1926f9a5a0b40ed912f50b5334e1a25",
              "version_major": 2,
              "version_minor": 0
            },
            "text/plain": [
              "tokenizer.json:   0%|          | 0.00/711k [00:00<?, ?B/s]"
            ]
          },
          "metadata": {},
          "output_type": "display_data"
        },
        {
          "data": {
            "application/vnd.jupyter.widget-view+json": {
              "model_id": "d09293516c5d4b639309d18654048b57",
              "version_major": 2,
              "version_minor": 0
            },
            "text/plain": [
              "special_tokens_map.json:   0%|          | 0.00/125 [00:00<?, ?B/s]"
            ]
          },
          "metadata": {},
          "output_type": "display_data"
        },
        {
          "name": "stderr",
          "output_type": "stream",
          "text": [
            "/usr/local/lib/python3.10/dist-packages/transformers/tokenization_utils_base.py:1601: FutureWarning: `clean_up_tokenization_spaces` was not set. It will be set to `True` by default. This behavior will be depracted in transformers v4.45, and will be then set to `False` by default. For more details check this issue: https://github.com/huggingface/transformers/issues/31884\n",
            "  warnings.warn(\n",
            "/usr/local/lib/python3.10/dist-packages/transformers/models/auto/auto_factory.py:469: FutureWarning: The `use_auth_token` argument is deprecated and will be removed in v5 of Transformers. Please use `token` instead.\n",
            "  warnings.warn(\n"
          ]
        },
        {
          "data": {
            "application/vnd.jupyter.widget-view+json": {
              "model_id": "8fb50c4c765f4076b9558d1f5248723c",
              "version_major": 2,
              "version_minor": 0
            },
            "text/plain": [
              "config.json:   0%|          | 0.00/877 [00:00<?, ?B/s]"
            ]
          },
          "metadata": {},
          "output_type": "display_data"
        },
        {
          "data": {
            "application/vnd.jupyter.widget-view+json": {
              "model_id": "fb947e7362e6483c99782fcc1d445a16",
              "version_major": 2,
              "version_minor": 0
            },
            "text/plain": [
              "model.safetensors:   0%|          | 0.00/2.47G [00:00<?, ?B/s]"
            ]
          },
          "metadata": {},
          "output_type": "display_data"
        },
        {
          "data": {
            "application/vnd.jupyter.widget-view+json": {
              "model_id": "d29ec9adbc564d86a88a40922b69775c",
              "version_major": 2,
              "version_minor": 0
            },
            "text/plain": [
              "generation_config.json:   0%|          | 0.00/189 [00:00<?, ?B/s]"
            ]
          },
          "metadata": {},
          "output_type": "display_data"
        },
        {
          "name": "stderr",
          "output_type": "stream",
          "text": [
            "/usr/local/lib/python3.10/dist-packages/transformers/models/auto/tokenization_auto.py:786: FutureWarning: The `use_auth_token` argument is deprecated and will be removed in v5 of Transformers. Please use `token` instead.\n",
            "  warnings.warn(\n"
          ]
        },
        {
          "data": {
            "application/vnd.jupyter.widget-view+json": {
              "model_id": "b5a6a2636f1f4d42a8d30aa84337b85f",
              "version_major": 2,
              "version_minor": 0
            },
            "text/plain": [
              "tokenizer_config.json:   0%|          | 0.00/54.5k [00:00<?, ?B/s]"
            ]
          },
          "metadata": {},
          "output_type": "display_data"
        },
        {
          "data": {
            "application/vnd.jupyter.widget-view+json": {
              "model_id": "c7fcfe1e46b64e32a71bda6956a28371",
              "version_major": 2,
              "version_minor": 0
            },
            "text/plain": [
              "tokenizer.json:   0%|          | 0.00/9.09M [00:00<?, ?B/s]"
            ]
          },
          "metadata": {},
          "output_type": "display_data"
        },
        {
          "data": {
            "application/vnd.jupyter.widget-view+json": {
              "model_id": "5607d1785a8744f8815aaf6e0eccfc34",
              "version_major": 2,
              "version_minor": 0
            },
            "text/plain": [
              "special_tokens_map.json:   0%|          | 0.00/296 [00:00<?, ?B/s]"
            ]
          },
          "metadata": {},
          "output_type": "display_data"
        }
      ],
      "source": [
        "from PIL import Image\n",
        "import requests\n",
        "from io import BytesIO\n",
        "from transformers import BlipProcessor, BlipForConditionalGeneration, AutoModelForCausalLM, AutoTokenizer, pipeline\n",
        "import gradio as gr\n",
        "import torch\n",
        "from pyngrok import ngrok\n",
        "\n",
        "model_blip = BlipForConditionalGeneration.from_pretrained(\"Salesforce/blip-image-captioning-base\")\n",
        "processor_blip = BlipProcessor.from_pretrained(\"Salesforce/blip-image-captioning-base\")\n",
        "\n",
        "access_token = \"access_token\"\n",
        "model_llama = AutoModelForCausalLM.from_pretrained(\"meta-llama/Llama-3.2-1B-Instruct\", use_auth_token=access_token)\n",
        "tokenizer_llama = AutoTokenizer.from_pretrained(\"meta-llama/Llama-3.2-1B-Instruct\", use_auth_token=access_token)"
      ]
    },
    {
      "cell_type": "code",
      "execution_count": null,
      "metadata": {
        "id": "jmyDK8vx9WKA"
      },
      "outputs": [],
      "source": [
        "# Initialize BLIP processor and model\n",
        "\n",
        "# Function to process input (uploaded image and user question)\n",
        "def process_input(uploaded_image, user_prompt):\n",
        "    try:\n",
        "\n",
        "        # Process the image directly (uploaded_image is already a PIL image)\n",
        "        inputs_blip = processor_blip(images=uploaded_image, return_tensors=\"pt\")\n",
        "\n",
        "        # Generate the caption\n",
        "        output = model_blip.generate(**inputs_blip)\n",
        "        caption = processor_blip.decode(output[0], skip_special_tokens=True)\n",
        "\n",
        "        # 2. Refine the search query using Llama model\n",
        "        model_id = \"meta-llama/Llama-3.2-1B-Instruct\"\n",
        "        pipe = pipeline(\"text-generation\", model=model_id, torch_dtype=torch.bfloat16, device_map=\"auto\")\n",
        "\n",
        "        # User message and system instructions\n",
        "        messages = [\n",
        "            {\n",
        "              \"role\": \"system\",\n",
        "              \"content\": \"Process the image description and user's query, then return relevant web search results that align with the user's query specific needs. No need to give me the links just return one liner search query with all the user needs that can be directly put to browser in one single line only\"\n",
        "            },\n",
        "            {\n",
        "              \"role\": \"user\",\n",
        "              \"content\": f\"Image description: {caption} User's query: {user_prompt}\"\n",
        "            }\n",
        "        ]\n",
        "\n",
        "        # Generate refined query\n",
        "        output_llama = pipe(messages, max_new_tokens=256)\n",
        "        search_query = output_llama[0][\"generated_text\"][-1]['content']  # Get the refined query\n",
        "\n",
        "        # 3. Perform the web search using Brave API\n",
        "        api_key = \"api_key\"  # Replace with your actual Zenserp API key\n",
        "        params = {\"q\": search_query, \"hl\": \"en\", \"apikey\": api_key}\n",
        "        search_response = requests.get(\"https://app.zenserp.com/api/v2/search\", params=params)\n",
        "        search_results = search_response.json()\n",
        "\n",
        "\n",
        "        # Format the search results\n",
        "        result_text = \"\"\n",
        "        if 'organic' in search_results:\n",
        "            for result in search_results['organic']:\n",
        "                title = result.get('title')\n",
        "                url = result.get('url')\n",
        "\n",
        "                # Check if title and URL are not None or empty\n",
        "                if title and url:  # Only add valid results\n",
        "                    result_text += f\"**[{title}]({url})**\\n\\n\"\n",
        "        else:\n",
        "            result_text = \"No search results found.\"\n",
        "\n",
        "        return result_text, search_query, caption # Return the formatted results and refined query\n",
        "\n",
        "    except Exception as e:\n",
        "        return str(e), \"\"  # Return the error if something goes wrong\n",
        "\n",
        "# Create Gradio interface\n",
        "iface = gr.Interface(\n",
        "    fn=process_input,\n",
        "    inputs=[\n",
        "        gr.Image(type=\"pil\", label=\"Upload Image\"),  # Allow image upload via drag and drop\n",
        "        gr.Textbox(lines=1, placeholder=\"Enter your query here...\", label=\"User Question\")\n",
        "    ],\n",
        "    outputs=[\n",
        "        gr.Markdown(label= \"Search Results\", value=\"The results will be shown here...\"),  # Output the search results\n",
        "        gr.Textbox(label=\"Final Search Query\"),  # Output the final refined query\n",
        "        gr.Textbox(label=\"Image context\")\n",
        "    ],\n",
        "    title=\"Image-Based Question Answering with Search Results\",\n",
        "    description=\"Upload an image and enter a question to get relevant search results along with the final query used.\"\n",
        ")\n",
        "\n",
        "\n"
      ]
    },
    {
      "cell_type": "code",
      "execution_count": 14,
      "metadata": {
        "id": "CFQU00dSEk0o"
      },
      "outputs": [],
      "source": [
        "ngrok.kill()"
      ]
    },
    {
      "cell_type": "code",
      "execution_count": 15,
      "metadata": {
        "colab": {
          "base_uri": "https://localhost:8080/",
          "height": 649
        },
        "id": "14gF0kJD-xSb",
        "outputId": "1efeb2c8-3668-4680-d594-eb95c19ab9cc"
      },
      "outputs": [
        {
          "name": "stdout",
          "output_type": "stream",
          "text": [
            "Authtoken saved to configuration file: /root/.config/ngrok/ngrok.yml\n",
            "Public URL: NgrokTunnel: \"https://6c4c-34-16-236-175.ngrok-free.app\" -> \"http://localhost:7860\"\n",
            "Colab notebook detected. To show errors in colab notebook, set debug=True in launch()\n",
            "* Running on public URL: https://3804cf967d418588a3.gradio.live\n",
            "\n",
            "This share link expires in 72 hours. For free permanent hosting and GPU upgrades, run `gradio deploy` from the terminal in the working directory to deploy to Hugging Face Spaces (https://huggingface.co/spaces)\n"
          ]
        },
        {
          "data": {
            "text/html": [
              "<div><iframe src=\"https://3804cf967d418588a3.gradio.live\" width=\"100%\" height=\"500\" allow=\"autoplay; camera; microphone; clipboard-read; clipboard-write;\" frameborder=\"0\" allowfullscreen></iframe></div>"
            ],
            "text/plain": [
              "<IPython.core.display.HTML object>"
            ]
          },
          "metadata": {},
          "output_type": "display_data"
        },
        {
          "data": {
            "text/plain": []
          },
          "execution_count": 15,
          "metadata": {},
          "output_type": "execute_result"
        }
      ],
      "source": [
        "!ngrok config add-authtoken 2nNJp88nGU2SAJ2nuJf2qKQNPbR_5M4zZBqsQ9wRgsa6L7zHu\n",
        "# Start a new ngrok tunnel\n",
        "public_url = ngrok.connect(7860)  # Adjust the port number if necessary\n",
        "print(f\"Public URL: {public_url}\")\n",
        "\n",
        "# Launch the Gradio interface\n",
        "iface.launch(share=True)"
      ]
    }
  ],
  "metadata": {
    "accelerator": "GPU",
    "colab": {
      "authorship_tag": "ABX9TyNQR4zC6RwBeEty/gw5K05W",
      "gpuType": "T4",
      "provenance": []
    },
    "kernelspec": {
      "display_name": "Python 3",
      "name": "python3"
    },
    "language_info": {
      "name": "python"
    },
  },
  "nbformat": 4,
  "nbformat_minor": 0
}
